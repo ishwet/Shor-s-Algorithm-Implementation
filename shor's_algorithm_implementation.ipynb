{
  "nbformat": 4,
  "nbformat_minor": 0,
  "metadata": {
    "colab": {
      "provenance": [],
      "authorship_tag": "ABX9TyPJVNtmU0jm/yTVlG0vUKoj",
      "include_colab_link": true
    },
    "kernelspec": {
      "name": "python3",
      "display_name": "Python 3"
    },
    "language_info": {
      "name": "python"
    }
  },
  "cells": [
    {
      "cell_type": "markdown",
      "metadata": {
        "id": "view-in-github",
        "colab_type": "text"
      },
      "source": [
        "<a href=\"https://colab.research.google.com/github/ishwet/Shor-s-Algorithm-Implementation/blob/main/shor's_algorithm_implementation.ipynb\" target=\"_parent\"><img src=\"https://colab.research.google.com/assets/colab-badge.svg\" alt=\"Open In Colab\"/></a>"
      ]
    },
    {
      "cell_type": "code",
      "execution_count": null,
      "metadata": {
        "id": "H_8je3S0IlUo"
      },
      "outputs": [],
      "source": []
    },
    {
      "cell_type": "code",
      "execution_count": 1,
      "metadata": {
        "id": "dwpxc9cfYCfR",
        "outputId": "31e1a2f4-45b6-4a1b-ace7-0b8a0d73e895",
        "colab": {
          "base_uri": "https://localhost:8080/"
        }
      },
      "outputs": [
        {
          "output_type": "stream",
          "name": "stdout",
          "text": [
            "installing cirq...\n",
            "\u001b[2K   \u001b[90m━━━━━━━━━━━━━━━━━━━━━━━━━━━━━━━━━━━━━━━━\u001b[0m \u001b[32m2.0/2.0 MB\u001b[0m \u001b[31m24.0 MB/s\u001b[0m eta \u001b[36m0:00:00\u001b[0m\n",
            "\u001b[2K   \u001b[90m━━━━━━━━━━━━━━━━━━━━━━━━━━━━━━━━━━━━━━━━\u001b[0m \u001b[32m670.8/670.8 kB\u001b[0m \u001b[31m39.4 MB/s\u001b[0m eta \u001b[36m0:00:00\u001b[0m\n",
            "\u001b[2K   \u001b[90m━━━━━━━━━━━━━━━━━━━━━━━━━━━━━━━━━━━━━━━━\u001b[0m \u001b[32m73.5/73.5 kB\u001b[0m \u001b[31m5.4 MB/s\u001b[0m eta \u001b[36m0:00:00\u001b[0m\n",
            "\u001b[2K   \u001b[90m━━━━━━━━━━━━━━━━━━━━━━━━━━━━━━━━━━━━━━━━\u001b[0m \u001b[32m430.5/430.5 kB\u001b[0m \u001b[31m28.8 MB/s\u001b[0m eta \u001b[36m0:00:00\u001b[0m\n",
            "\u001b[2K   \u001b[90m━━━━━━━━━━━━━━━━━━━━━━━━━━━━━━━━━━━━━━━━\u001b[0m \u001b[32m2.8/2.8 MB\u001b[0m \u001b[31m70.4 MB/s\u001b[0m eta \u001b[36m0:00:00\u001b[0m\n",
            "\u001b[?25hinstalled cirq.\n"
          ]
        }
      ],
      "source": [
        "\"\"\"Install Cirq.\"\"\"\n",
        "\n",
        "try:\n",
        "    import cirq\n",
        "except ImportError:\n",
        "    print(\"installing cirq...\")\n",
        "    !pip install --quiet cirq\n",
        "    print(\"installed cirq.\")"
      ]
    },
    {
      "cell_type": "code",
      "source": [],
      "metadata": {
        "id": "czG0jCM5JO-w"
      },
      "execution_count": null,
      "outputs": []
    },
    {
      "cell_type": "code",
      "execution_count": 2,
      "metadata": {
        "id": "0f-6DbifYArF"
      },
      "outputs": [],
      "source": [
        "\"\"\"Imports for the notebook.\"\"\"\n",
        "\n",
        "import fractions\n",
        "import math\n",
        "import random\n",
        "\n",
        "import numpy as np\n",
        "import sympy\n",
        "from typing import Callable, Iterable, Sequence\n",
        "\n",
        "import cirq"
      ]
    },
    {
      "cell_type": "code",
      "source": [],
      "metadata": {
        "id": "xfNx5l0QJV8D"
      },
      "execution_count": null,
      "outputs": []
    },
    {
      "cell_type": "code",
      "execution_count": 6,
      "metadata": {
        "id": "zHFjRmNbYArN"
      },
      "outputs": [],
      "source": [
        "\"\"\"Zn and finding the GCD part.\"\"\"\n",
        "\n",
        "\n",
        "def multiplicative_group(n: int) -> list[int]:\n",
        "    assert n > 1\n",
        "    group = [1]\n",
        "    for x in range(2, n):\n",
        "        if math.gcd(x, n) == 1:\n",
        "            group.append(x)\n",
        "    return group"
      ]
    },
    {
      "cell_type": "code",
      "source": [],
      "metadata": {
        "id": "h7pptDdLJarV"
      },
      "execution_count": null,
      "outputs": []
    },
    {
      "cell_type": "code",
      "execution_count": 7,
      "metadata": {
        "id": "5eQq1tJBYArS",
        "colab": {
          "base_uri": "https://localhost:8080/"
        },
        "outputId": "62227999-3711-4079-fc9f-a1bdd3c0cc7e"
      },
      "outputs": [
        {
          "output_type": "stream",
          "name": "stdout",
          "text": [
            "The multiplicative group modulo n = 15 is:\n",
            "[1, 2, 4, 7, 8, 11, 13, 14]\n"
          ]
        }
      ],
      "source": [
        "\"\"\"Example explained.\"\"\"\n",
        "\n",
        "n = 15\n",
        "print(f\"The multiplicative group modulo n = {n} is:\")\n",
        "print(multiplicative_group(n))"
      ]
    },
    {
      "cell_type": "code",
      "source": [],
      "metadata": {
        "id": "lyczu-5DJetN"
      },
      "execution_count": null,
      "outputs": []
    },
    {
      "cell_type": "code",
      "execution_count": 9,
      "metadata": {
        "id": "v3GfJ0POYAra"
      },
      "outputs": [],
      "source": [
        "\"\"\" Classical Order Finding \"\"\"\n",
        "\n",
        "\n",
        "def classical_order_finder(x: int, n: int) -> int | None:\n",
        "\n",
        "    # Take correct values.\n",
        "    if x < 2 or x >= n or math.gcd(x, n) > 1:\n",
        "        raise ValueError(f\"Invalid x={x} for modulus n={n}.\")\n",
        "\n",
        "    # order determination part.\n",
        "    r, y = 1, x\n",
        "    while y != 1:\n",
        "        y = (x * y) % n\n",
        "        r += 1\n",
        "    return r"
      ]
    },
    {
      "cell_type": "code",
      "source": [],
      "metadata": {
        "id": "7KAPDP7mKy3_"
      },
      "execution_count": null,
      "outputs": []
    },
    {
      "cell_type": "code",
      "execution_count": 11,
      "metadata": {
        "id": "Lvs1wwgPYAre",
        "colab": {
          "base_uri": "https://localhost:8080/"
        },
        "outputId": "3bd22e77-17d6-4a43-ebb4-a147a2c61551"
      },
      "outputs": [
        {
          "output_type": "stream",
          "name": "stdout",
          "text": [
            "x^r mod n = 8^4 mod 15 = 1\n"
          ]
        }
      ],
      "source": [
        "\"\"\"Example solved\"\"\"\n",
        "\n",
        "n = 15\n",
        "x = 8\n",
        "r = classical_order_finder(x, n)\n",
        "\n",
        "\n",
        "print(f\"x^r mod n = {x}^{r} mod {n} = {x**r % n}\")"
      ]
    },
    {
      "cell_type": "code",
      "source": [],
      "metadata": {
        "id": "j1Zj7sBDK-st"
      },
      "execution_count": null,
      "outputs": []
    },
    {
      "cell_type": "code",
      "execution_count": 12,
      "metadata": {
        "id": "4QRBj3-vYArm"
      },
      "outputs": [],
      "source": [
        "\"\"\"Example of defining an arithmetic (quantum) gate in Cirq.\"\"\"\n",
        "\n",
        "\n",
        "class Adder(cirq.ArithmeticGate):\n",
        "    \"\"\"Quantum addition.\"\"\"\n",
        "\n",
        "    def __init__(self, target_register: int | Sequence[int], input_register: int | Sequence[int]):\n",
        "        self.target_register = target_register\n",
        "        self.input_register = input_register\n",
        "\n",
        "    def registers(self) -> Sequence[int | Sequence[int]]:\n",
        "        return self.target_register, self.input_register\n",
        "\n",
        "    def with_registers(self, *new_registers: int | Sequence[int]) -> 'Adder':\n",
        "        return Adder(*new_registers)\n",
        "\n",
        "    def apply(self, *register_values: int) -> int | Iterable[int]:\n",
        "        return sum(register_values)\n",
        "\n",
        "    def _circuit_diagram_info_(self, args: cirq.CircuitDiagramInfoArgs):\n",
        "        wire_symbols = [' + ' for _ in range(len(self.input_register) + len(self.target_register))]\n",
        "        return cirq.CircuitDiagramInfo(wire_symbols=tuple(wire_symbols))"
      ]
    },
    {
      "cell_type": "code",
      "source": [],
      "metadata": {
        "id": "nb85xXp3Lki_"
      },
      "execution_count": null,
      "outputs": []
    },
    {
      "cell_type": "code",
      "execution_count": 13,
      "metadata": {
        "id": "R5eN1c-GYArr",
        "colab": {
          "base_uri": "https://localhost:8080/"
        },
        "outputId": "89ef063a-3940-46fd-ff40-4f1c9e743ce4"
      },
      "outputs": [
        {
          "output_type": "stream",
          "name": "stdout",
          "text": [
            "Circuit:\n",
            "\n",
            "0: ───X─── + ───M───\n",
            "          │\n",
            "1: ─────── + ───M───\n",
            "          │\n",
            "2: ─────── + ───M───\n",
            "          │\n",
            "3: ───X─── + ───M───\n",
            "\n",
            "\n",
            "Measurement outcomes:\n",
            "\n",
            "   q(0)  q(1)  q(2)  q(3)\n",
            "0     1     1     0     1\n",
            "1     1     1     0     1\n",
            "2     1     1     0     1\n",
            "3     1     1     0     1\n",
            "4     1     1     0     1\n"
          ]
        }
      ],
      "source": [
        "\"\"\"Example of using an Adder in a circuit.\"\"\"\n",
        "\n",
        "# Two qubit registers.\n",
        "qreg1 = cirq.LineQubit.range(2)\n",
        "qreg2 = cirq.LineQubit.range(2, 4)\n",
        "\n",
        "# Define an adder gate for two 2D input and target qubits.\n",
        "adder = Adder(input_register=[2, 2], target_register=[2, 2])\n",
        "\n",
        "# Define the circuit.\n",
        "circ = cirq.Circuit(\n",
        "    cirq.X.on(qreg1[0]),\n",
        "    cirq.X.on(qreg2[1]),\n",
        "    adder.on(*qreg1, *qreg2),\n",
        "    cirq.measure_each(*qreg1),\n",
        "    cirq.measure_each(*qreg2),\n",
        ")\n",
        "\n",
        "# Display it.\n",
        "print(\"Circuit:\\n\")\n",
        "print(circ)\n",
        "\n",
        "# Print the measurement outcomes.\n",
        "print(\"\\n\\nMeasurement outcomes:\\n\")\n",
        "print(cirq.sample(circ, repetitions=5).data)"
      ]
    },
    {
      "cell_type": "code",
      "source": [],
      "metadata": {
        "id": "UacXLAxFLrIB"
      },
      "execution_count": null,
      "outputs": []
    },
    {
      "cell_type": "code",
      "execution_count": 14,
      "metadata": {
        "id": "aT5BGnbnYArw",
        "colab": {
          "base_uri": "https://localhost:8080/"
        },
        "outputId": "7606aa97-e08c-4a87-ba8e-10e411a39c81"
      },
      "outputs": [
        {
          "output_type": "execute_result",
          "data": {
            "text/plain": [
              "array([[0., 0., 0., 1.],\n",
              "       [1., 0., 0., 0.],\n",
              "       [0., 1., 0., 0.],\n",
              "       [0., 0., 1., 0.]])"
            ]
          },
          "metadata": {},
          "execution_count": 14
        }
      ],
      "source": [
        "\"\"\"Example of the unitary of an Adder gate.\"\"\"\n",
        "\n",
        "cirq.unitary(Adder(target_register=[2, 2], input_register=1)).real"
      ]
    },
    {
      "cell_type": "code",
      "source": [],
      "metadata": {
        "id": "PnRdBbdCLuv4"
      },
      "execution_count": null,
      "outputs": []
    },
    {
      "cell_type": "code",
      "execution_count": 15,
      "metadata": {
        "id": "Yt3iyR3uYAr1"
      },
      "outputs": [],
      "source": [
        "\"\"\"Defines the modular exponential gate used in Shor's algorithm.\"\"\"\n",
        "\n",
        "\n",
        "class ModularExp(cirq.ArithmeticGate):\n",
        "    \"\"\"Quantum modular exponentiation.\n",
        "\n",
        "    This class represents the unitary which multiplies base raised to exponent\n",
        "    into the target modulo the given modulus. More precisely, it represents the\n",
        "    unitary V which computes modular exponentiation x**e mod n:\n",
        "\n",
        "        V|y⟩|e⟩ = |y * x**e mod n⟩ |e⟩     0 <= y < n\n",
        "        V|y⟩|e⟩ = |y⟩ |e⟩                  n <= y\n",
        "\n",
        "    where y is the target register, e is the exponent register, x is the base\n",
        "    and n is the modulus. Consequently,\n",
        "\n",
        "        V|y⟩|e⟩ = (U**e|y)|e⟩\n",
        "\n",
        "    where U is the unitary defined as\n",
        "\n",
        "        U|y⟩ = |y * x mod n⟩      0 <= y < n\n",
        "        U|y⟩ = |y⟩                n <= y\n",
        "    \"\"\"\n",
        "\n",
        "    def __init__(\n",
        "        self, target: Sequence[int], exponent: int | Sequence[int], base: int, modulus: int\n",
        "    ) -> None:\n",
        "        if len(target) < modulus.bit_length():\n",
        "            raise ValueError(\n",
        "                f'Register with {len(target)} qubits is too small for modulus' f' {modulus}'\n",
        "            )\n",
        "        self.target = target\n",
        "        self.exponent = exponent\n",
        "        self.base = base\n",
        "        self.modulus = modulus\n",
        "\n",
        "    def registers(self) -> Sequence[int | Sequence[int]]:\n",
        "        return self.target, self.exponent, self.base, self.modulus\n",
        "\n",
        "    def with_registers(self, *new_registers: int | Sequence[int]) -> 'ModularExp':\n",
        "        \"\"\"Returns a new ModularExp object with new registers.\"\"\"\n",
        "        if len(new_registers) != 4:\n",
        "            raise ValueError(\n",
        "                f'Expected 4 registers (target, exponent, base, '\n",
        "                f'modulus), but got {len(new_registers)}'\n",
        "            )\n",
        "        target, exponent, base, modulus = new_registers\n",
        "        if not isinstance(target, Sequence):\n",
        "            raise ValueError(f'Target must be a qubit register, got {type(target)}')\n",
        "        if not isinstance(base, int):\n",
        "            raise ValueError(f'Base must be a classical constant, got {type(base)}')\n",
        "        if not isinstance(modulus, int):\n",
        "            raise ValueError(f'Modulus must be a classical constant, got {type(modulus)}')\n",
        "        return ModularExp(target, exponent, base, modulus)\n",
        "\n",
        "    def apply(self, *register_values: int) -> int:\n",
        "        \"\"\"Applies modular exponentiation to the registers.\n",
        "\n",
        "        Four values should be passed in.  They are, in order:\n",
        "          - the target\n",
        "          - the exponent\n",
        "          - the base\n",
        "          - the modulus\n",
        "\n",
        "        Note that the target and exponent should be qubit\n",
        "        registers, while the base and modulus should be\n",
        "        constant parameters that control the resulting unitary.\n",
        "        \"\"\"\n",
        "        assert len(register_values) == 4\n",
        "        target, exponent, base, modulus = register_values\n",
        "        if target >= modulus:\n",
        "            return target\n",
        "        return (target * base**exponent) % modulus\n",
        "\n",
        "    def _circuit_diagram_info_(self, args: cirq.CircuitDiagramInfoArgs) -> cirq.CircuitDiagramInfo:\n",
        "        \"\"\"Returns a 'CircuitDiagramInfo' object for printing circuits.\n",
        "\n",
        "        This function just returns information on how to print this operation\n",
        "        out in a circuit diagram so that the registers are labeled\n",
        "        appropriately as exponent ('e') and target ('t').\n",
        "        \"\"\"\n",
        "        assert args.known_qubits is not None\n",
        "        wire_symbols = [f't{i}' for i in range(len(self.target))]\n",
        "        e_str = str(self.exponent)\n",
        "        if isinstance(self.exponent, Sequence):\n",
        "            e_str = 'e'\n",
        "            wire_symbols += [f'e{i}' for i in range(len(self.exponent))]\n",
        "        wire_symbols[0] = f'ModularExp(t*{self.base}**{e_str} % {self.modulus})'\n",
        "        return cirq.CircuitDiagramInfo(wire_symbols=tuple(wire_symbols))"
      ]
    },
    {
      "cell_type": "code",
      "source": [],
      "metadata": {
        "id": "8a98ZTRcL0Tu"
      },
      "execution_count": null,
      "outputs": []
    },
    {
      "cell_type": "code",
      "execution_count": 16,
      "metadata": {
        "id": "aLPqY6gtYAr7",
        "colab": {
          "base_uri": "https://localhost:8080/"
        },
        "outputId": "b4ed5c51-dcee-4351-cd0d-7f5a8c63f30d"
      },
      "outputs": [
        {
          "output_type": "stream",
          "name": "stdout",
          "text": [
            "To factor n = 15 which has L = 4 bits, we need 3L + 3 = 15 qubits.\n"
          ]
        }
      ],
      "source": [
        "\"\"\"Create the target and exponent registers for phase estimation,\n",
        "and see the number of qubits needed for Shor's algorithm.\n",
        "\"\"\"\n",
        "\n",
        "n = 15\n",
        "L = n.bit_length()\n",
        "\n",
        "# The target register has L qubits.\n",
        "target = cirq.LineQubit.range(L)\n",
        "\n",
        "# The exponent register has 2L + 3 qubits.\n",
        "exponent = cirq.LineQubit.range(L, 3 * L + 3)\n",
        "\n",
        "# Display the total number of qubits to factor this n.\n",
        "print(f\"To factor n = {n} which has L = {L} bits, we need 3L + 3 = {3 * L + 3} qubits.\")"
      ]
    },
    {
      "cell_type": "code",
      "source": [],
      "metadata": {
        "id": "hX6YbrcpL5WY"
      },
      "execution_count": null,
      "outputs": []
    },
    {
      "cell_type": "code",
      "execution_count": 17,
      "metadata": {
        "id": "KVIxkUhaYAr_"
      },
      "outputs": [],
      "source": [
        "\"\"\"See (part of) the unitary for a modular exponential gate.\"\"\"\n",
        "\n",
        "# Pick some element of the multiplicative group modulo n.\n",
        "x = 5\n",
        "\n",
        "# Display (part of) the unitary. Uncomment if n is small enough.\n",
        "# cirq.unitary(ModularExp(target, exponent, x, n))"
      ]
    },
    {
      "cell_type": "code",
      "source": [],
      "metadata": {
        "id": "BRMXJ7YbMFTx"
      },
      "execution_count": null,
      "outputs": []
    },
    {
      "cell_type": "code",
      "execution_count": 18,
      "metadata": {
        "id": "9RPcq0o8YAsD"
      },
      "outputs": [],
      "source": [
        "\"\"\"Function to make the quantum circuit for order finding.\"\"\"\n",
        "\n",
        "\n",
        "def make_order_finding_circuit(x: int, n: int) -> cirq.Circuit:\n",
        "    \"\"\"Returns quantum circuit which computes the order of x modulo n.\n",
        "\n",
        "    The circuit uses Quantum Phase Estimation to compute an eigenvalue of\n",
        "    the following unitary:\n",
        "\n",
        "        U|y⟩ = |y * x mod n⟩      0 <= y < n\n",
        "        U|y⟩ = |y⟩                n <= y\n",
        "\n",
        "    Args:\n",
        "        x: positive integer whose order modulo n is to be found\n",
        "        n: modulus relative to which the order of x is to be found\n",
        "\n",
        "    Returns:\n",
        "        Quantum circuit for finding the order of x modulo n\n",
        "    \"\"\"\n",
        "    L = n.bit_length()\n",
        "    target = cirq.LineQubit.range(L)\n",
        "    exponent = cirq.LineQubit.range(L, 3 * L + 3)\n",
        "\n",
        "    # Create a ModularExp gate sized for these registers.\n",
        "    mod_exp = ModularExp([2] * L, [2] * (2 * L + 3), x, n)\n",
        "\n",
        "    return cirq.Circuit(\n",
        "        cirq.X(target[L - 1]),\n",
        "        cirq.H.on_each(*exponent),\n",
        "        mod_exp.on(*target, *exponent),\n",
        "        cirq.qft(*exponent, inverse=True),\n",
        "        cirq.measure(*exponent, key='exponent'),\n",
        "    )"
      ]
    },
    {
      "cell_type": "code",
      "source": [],
      "metadata": {
        "id": "F4IlbsHfMIzr"
      },
      "execution_count": null,
      "outputs": []
    },
    {
      "cell_type": "code",
      "execution_count": 19,
      "metadata": {
        "id": "Ug17LWJXYAsH",
        "colab": {
          "base_uri": "https://localhost:8080/"
        },
        "outputId": "75242679-6bf0-4723-901a-21e5450a7e9a"
      },
      "outputs": [
        {
          "output_type": "stream",
          "name": "stdout",
          "text": [
            "0: ────────ModularExp(t*7**e % 15)────────────────────────────\n",
            "           │\n",
            "1: ────────t1─────────────────────────────────────────────────\n",
            "           │\n",
            "2: ────────t2─────────────────────────────────────────────────\n",
            "           │\n",
            "3: ────X───t3─────────────────────────────────────────────────\n",
            "           │\n",
            "4: ────H───e0────────────────────────qft^-1───M('exponent')───\n",
            "           │                         │        │\n",
            "5: ────H───e1────────────────────────#2───────M───────────────\n",
            "           │                         │        │\n",
            "6: ────H───e2────────────────────────#3───────M───────────────\n",
            "           │                         │        │\n",
            "7: ────H───e3────────────────────────#4───────M───────────────\n",
            "           │                         │        │\n",
            "8: ────H───e4────────────────────────#5───────M───────────────\n",
            "           │                         │        │\n",
            "9: ────H───e5────────────────────────#6───────M───────────────\n",
            "           │                         │        │\n",
            "10: ───H───e6────────────────────────#7───────M───────────────\n",
            "           │                         │        │\n",
            "11: ───H───e7────────────────────────#8───────M───────────────\n",
            "           │                         │        │\n",
            "12: ───H───e8────────────────────────#9───────M───────────────\n",
            "           │                         │        │\n",
            "13: ───H───e9────────────────────────#10──────M───────────────\n",
            "           │                         │        │\n",
            "14: ───H───e10───────────────────────#11──────M───────────────\n"
          ]
        }
      ],
      "source": [
        "\"\"\"Example of the quantum circuit for period finding.\"\"\"\n",
        "\n",
        "n = 15\n",
        "x = 7\n",
        "circuit = make_order_finding_circuit(x, n)\n",
        "print(circuit)"
      ]
    },
    {
      "cell_type": "code",
      "source": [],
      "metadata": {
        "id": "Wxx5hTLAMLeD"
      },
      "execution_count": null,
      "outputs": []
    },
    {
      "cell_type": "code",
      "execution_count": 20,
      "metadata": {
        "id": "zGb2AbE1YAsN",
        "colab": {
          "base_uri": "https://localhost:8080/"
        },
        "outputId": "586bed22-5b82-4502-df70-dd7876db9370"
      },
      "outputs": [
        {
          "output_type": "stream",
          "name": "stdout",
          "text": [
            "Raw measurements:\n",
            "exponent=00000000, 00000000, 00000000, 00000000, 00000000, 00000000, 00000000, 00000000, 00000000\n",
            "\n",
            "Integer in exponent register:\n",
            "   exponent\n",
            "0         0\n",
            "1         0\n",
            "2         0\n",
            "3         0\n",
            "4         0\n",
            "5         0\n",
            "6         0\n",
            "7         0\n"
          ]
        }
      ],
      "source": [
        "\"\"\"Measuring Shor's period finding circuit.\"\"\"\n",
        "\n",
        "circuit = make_order_finding_circuit(x=5, n=6)\n",
        "res = cirq.sample(circuit, repetitions=8)\n",
        "\n",
        "print(\"Raw measurements:\")\n",
        "print(res)\n",
        "\n",
        "print(\"\\nInteger in exponent register:\")\n",
        "print(res.data)"
      ]
    },
    {
      "cell_type": "code",
      "source": [],
      "metadata": {
        "id": "IdYChxNwMQfq"
      },
      "execution_count": null,
      "outputs": []
    },
    {
      "cell_type": "code",
      "execution_count": 21,
      "metadata": {
        "id": "pKQ59vB6YAsR"
      },
      "outputs": [],
      "source": [
        "def process_measurement(result: cirq.Result, x: int, n: int) -> int | None:\n",
        "    \"\"\"Interprets the output of the order finding circuit.\n",
        "\n",
        "    Specifically, it determines s/r such that exp(2πis/r) is an eigenvalue\n",
        "    of the unitary\n",
        "\n",
        "        U|y⟩ = |xy mod n⟩  0 <= y < n\n",
        "        U|y⟩ = |y⟩         n <= y\n",
        "\n",
        "    then computes r (by continued fractions) if possible, and returns it.\n",
        "\n",
        "    Args:\n",
        "        result: result obtained by sampling the output of the\n",
        "            circuit built by make_order_finding_circuit\n",
        "\n",
        "    Returns:\n",
        "        r, the order of x modulo n or None.\n",
        "    \"\"\"\n",
        "    # Read the output integer of the exponent register.\n",
        "    exponent_as_integer = result.data[\"exponent\"][0]\n",
        "    exponent_num_bits = result.measurements[\"exponent\"].shape[1]\n",
        "    eigenphase = float(exponent_as_integer / 2**exponent_num_bits)\n",
        "\n",
        "    # Run the continued fractions algorithm to determine f = s / r.\n",
        "    f = fractions.Fraction.from_float(eigenphase).limit_denominator(n)\n",
        "\n",
        "    # If the numerator is zero, the order finder failed.\n",
        "    if f.numerator == 0:\n",
        "        return None\n",
        "\n",
        "    # Else, return the denominator if it is valid.\n",
        "    r = f.denominator\n",
        "    if x**r % n != 1:\n",
        "        return None\n",
        "    return r"
      ]
    },
    {
      "cell_type": "code",
      "source": [],
      "metadata": {
        "id": "8v_915eFMUND"
      },
      "execution_count": null,
      "outputs": []
    },
    {
      "cell_type": "code",
      "execution_count": 22,
      "metadata": {
        "id": "CTFqzZRdYAsU",
        "colab": {
          "base_uri": "https://localhost:8080/"
        },
        "outputId": "f26cbb7a-fbda-47ce-c32f-1f8fa8d6cb67"
      },
      "outputs": [
        {
          "output_type": "stream",
          "name": "stdout",
          "text": [
            "Finding the order of x = 5 modulo n = 6\n",
            "\n",
            "Raw measurements:\n",
            "exponent=1, 0, 0, 0, 0, 0, 0, 0, 0\n",
            "\n",
            "Integer in exponent register:\n",
            "   exponent\n",
            "0       256\n",
            "\n",
            "Order r = 2\n",
            "x^r mod n = 5^2 mod 6 = 1\n"
          ]
        }
      ],
      "source": [
        "\"\"\"Example of the classical post-processing.\"\"\"\n",
        "\n",
        "# Set n and x here\n",
        "n = 6\n",
        "x = 5\n",
        "\n",
        "print(f\"Finding the order of x = {x} modulo n = {n}\\n\")\n",
        "measurement = cirq.sample(circuit, repetitions=1)\n",
        "print(\"Raw measurements:\")\n",
        "print(measurement)\n",
        "\n",
        "print(\"\\nInteger in exponent register:\")\n",
        "print(measurement.data)\n",
        "\n",
        "r = process_measurement(measurement, x, n)\n",
        "print(\"\\nOrder r =\", r)\n",
        "if r is not None:\n",
        "    print(f\"x^r mod n = {x}^{r} mod {n} = {x**r % n}\")"
      ]
    },
    {
      "cell_type": "code",
      "source": [],
      "metadata": {
        "id": "DlJe8SRoMYWV"
      },
      "execution_count": null,
      "outputs": []
    },
    {
      "cell_type": "code",
      "execution_count": 23,
      "metadata": {
        "id": "Qwo3s-AsYAsZ"
      },
      "outputs": [],
      "source": [
        "def quantum_order_finder(x: int, n: int) -> int | None:\n",
        "    \"\"\"Computes smallest positive r such that x**r mod n == 1.\n",
        "\n",
        "    Args:\n",
        "        x: integer whose order is to be computed, must be greater than one\n",
        "           and belong to the multiplicative group of integers modulo n (which\n",
        "           consists of positive integers relatively prime to n),\n",
        "        n: modulus of the multiplicative group.\n",
        "    \"\"\"\n",
        "    # Check that the integer x is a valid element of the multiplicative group\n",
        "    # modulo n.\n",
        "    if x < 2 or n <= x or math.gcd(x, n) > 1:\n",
        "        raise ValueError(f'Invalid x={x} for modulus n={n}.')\n",
        "\n",
        "    # Create the order finding circuit.\n",
        "    circuit = make_order_finding_circuit(x, n)\n",
        "\n",
        "    # Sample from the order finding circuit.\n",
        "    measurement = cirq.sample(circuit)\n",
        "\n",
        "    # Return the processed measurement result.\n",
        "    return process_measurement(measurement, x, n)"
      ]
    },
    {
      "cell_type": "code",
      "source": [],
      "metadata": {
        "id": "Wj_dtzkdMd6I"
      },
      "execution_count": null,
      "outputs": []
    },
    {
      "cell_type": "code",
      "execution_count": 24,
      "metadata": {
        "id": "XvRmVZRLYAse"
      },
      "outputs": [],
      "source": [
        "\"\"\"Functions for factoring from start to finish.\"\"\"\n",
        "\n",
        "\n",
        "def find_factor_of_prime_power(n: int) -> int | None:\n",
        "    \"\"\"Returns non-trivial factor of n if n is a prime power, else None.\"\"\"\n",
        "    for k in range(2, math.floor(math.log2(n)) + 1):\n",
        "        c = math.pow(n, 1 / k)\n",
        "        c1 = math.floor(c)\n",
        "        if c1**k == n:\n",
        "            return c1\n",
        "        c2 = math.ceil(c)\n",
        "        if c2**k == n:\n",
        "            return c2\n",
        "    return None\n",
        "\n",
        "\n",
        "def find_factor(\n",
        "    n: int,\n",
        "    order_finder: Callable[[int, int], int | None] = quantum_order_finder,\n",
        "    max_attempts: int = 30,\n",
        ") -> int | None:\n",
        "    \"\"\"Returns a non-trivial factor of composite integer n.\n",
        "\n",
        "    Args:\n",
        "        n: Integer to factor.\n",
        "        order_finder: Function for finding the order of elements of the\n",
        "            multiplicative group of integers modulo n.\n",
        "        max_attempts: number of random x's to try, also an upper limit\n",
        "            on the number of order_finder invocations.\n",
        "\n",
        "    Returns:\n",
        "        Non-trivial factor of n or None if no such factor was found.\n",
        "        Factor k of n is trivial if it is 1 or n.\n",
        "    \"\"\"\n",
        "    # If the number is prime, there are no non-trivial factors.\n",
        "    if sympy.isprime(n):\n",
        "        print(\"n is prime!\")\n",
        "        return None\n",
        "\n",
        "    # If the number is even, two is a non-trivial factor.\n",
        "    if n % 2 == 0:\n",
        "        return 2\n",
        "\n",
        "    # If n is a prime power, we can find a non-trivial factor efficiently.\n",
        "    c = find_factor_of_prime_power(n)\n",
        "    if c is not None:\n",
        "        return c\n",
        "\n",
        "    for _ in range(max_attempts):\n",
        "        # Choose a random number between 2 and n - 1.\n",
        "        x = random.randint(2, n - 1)\n",
        "\n",
        "        # Most likely x and n will be relatively prime.\n",
        "        c = math.gcd(x, n)\n",
        "\n",
        "        # If x and n are not relatively prime, we got lucky and found\n",
        "        # a non-trivial factor.\n",
        "        if 1 < c < n:\n",
        "            return c\n",
        "\n",
        "        # Compute the order r of x modulo n using the order finder.\n",
        "        r = order_finder(x, n)\n",
        "\n",
        "        # If the order finder failed, try again.\n",
        "        if r is None:\n",
        "            continue\n",
        "\n",
        "        # If the order r is even, try again.\n",
        "        if r % 2 != 0:\n",
        "            continue\n",
        "\n",
        "        # Compute the non-trivial factor.\n",
        "        y = x ** (r // 2) % n\n",
        "        assert 1 < y < n\n",
        "        c = math.gcd(y - 1, n)\n",
        "        if 1 < c < n:\n",
        "            return c\n",
        "\n",
        "    print(f\"Failed to find a non-trivial factor in {max_attempts} attempts.\")\n",
        "    return None"
      ]
    },
    {
      "cell_type": "code",
      "source": [],
      "metadata": {
        "id": "2EG4i6DEMf1g"
      },
      "execution_count": null,
      "outputs": []
    },
    {
      "cell_type": "code",
      "execution_count": 25,
      "metadata": {
        "id": "1RN4SqfDYAsh",
        "colab": {
          "base_uri": "https://localhost:8080/"
        },
        "outputId": "84cb890a-c3b7-4e97-f16b-6b065e07999e"
      },
      "outputs": [
        {
          "output_type": "stream",
          "name": "stdout",
          "text": [
            "Factoring n = pq = 184573\n",
            "p = 487\n",
            "q = 379\n"
          ]
        }
      ],
      "source": [
        "\"\"\"Example of factoring via Shor's algorithm (order finding).\"\"\"\n",
        "\n",
        "# Number to factor\n",
        "n = 184573\n",
        "\n",
        "# Attempt to find a factor\n",
        "p = find_factor(n, order_finder=classical_order_finder)\n",
        "q = n // p\n",
        "\n",
        "print(\"Factoring n = pq =\", n)\n",
        "print(\"p =\", p)\n",
        "print(\"q =\", q)"
      ]
    },
    {
      "cell_type": "code",
      "source": [],
      "metadata": {
        "id": "F2Lu9n_lMjyq"
      },
      "execution_count": null,
      "outputs": []
    },
    {
      "cell_type": "code",
      "execution_count": 26,
      "metadata": {
        "id": "PTZTrPU1Zrad",
        "colab": {
          "base_uri": "https://localhost:8080/"
        },
        "outputId": "aaf13a10-3921-4f09-ea10-e607784584fe"
      },
      "outputs": [
        {
          "output_type": "execute_result",
          "data": {
            "text/plain": [
              "True"
            ]
          },
          "metadata": {},
          "execution_count": 26
        }
      ],
      "source": [
        "\"\"\"Check the answer is correct.\"\"\"\n",
        "\n",
        "p * q == n"
      ]
    }
  ]
}